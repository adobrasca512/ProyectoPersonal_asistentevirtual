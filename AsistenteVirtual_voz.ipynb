{
 "cells": [
  {
   "cell_type": "code",
   "execution_count": null,
   "id": "6d235d9d",
   "metadata": {},
   "outputs": [],
   "source": [
    "#Aqui instalo los sonidos, microfonos, busquedas, librerias."
   ]
  },
  {
   "cell_type": "code",
   "execution_count": null,
   "id": "997698dd",
   "metadata": {},
   "outputs": [],
   "source": [
    "pip install playsound"
   ]
  },
  {
   "cell_type": "code",
   "execution_count": null,
   "id": "abc7cb5b",
   "metadata": {},
   "outputs": [],
   "source": [
    "pip install beautifulsoup4"
   ]
  },
  {
   "cell_type": "code",
   "execution_count": null,
   "id": "7e66117c",
   "metadata": {},
   "outputs": [],
   "source": [
    "pip install gTTS"
   ]
  },
  {
   "cell_type": "code",
   "execution_count": null,
   "id": "14c5ddaa",
   "metadata": {},
   "outputs": [],
   "source": [
    "pip install google"
   ]
  },
  {
   "cell_type": "code",
   "execution_count": null,
   "id": "c93efa82",
   "metadata": {},
   "outputs": [],
   "source": [
    "pip install mysql-connector-python"
   ]
  },
  {
   "cell_type": "code",
   "execution_count": null,
   "id": "0354c2b2",
   "metadata": {},
   "outputs": [],
   "source": [
    "pip install SpeechRecognition"
   ]
  },
  {
   "cell_type": "code",
   "execution_count": null,
   "id": "7a75ce98",
   "metadata": {},
   "outputs": [],
   "source": [
    "pip install pyttsx3"
   ]
  },
  {
   "cell_type": "code",
   "execution_count": null,
   "id": "14f825f2",
   "metadata": {},
   "outputs": [],
   "source": [
    "pip install mariadb"
   ]
  },
  {
   "cell_type": "code",
   "execution_count": null,
   "id": "71051eb3",
   "metadata": {},
   "outputs": [],
   "source": [
    "pip install googlesearch-python"
   ]
  },
  {
   "cell_type": "code",
   "execution_count": null,
   "id": "04f07a29",
   "metadata": {},
   "outputs": [],
   "source": [
    "#Importo las librerias necesarias"
   ]
  },
  {
   "cell_type": "code",
   "execution_count": null,
   "id": "c6510fff",
   "metadata": {},
   "outputs": [],
   "source": [
    "from gtts import gTTS"
   ]
  },
  {
   "cell_type": "code",
   "execution_count": null,
   "id": "79733e71",
   "metadata": {},
   "outputs": [],
   "source": [
    "from playsound import playsound"
   ]
  },
  {
   "cell_type": "code",
   "execution_count": null,
   "id": "26adea75",
   "metadata": {},
   "outputs": [],
   "source": [
    "import speech_recognition as sr"
   ]
  },
  {
   "cell_type": "code",
   "execution_count": null,
   "id": "87b11038",
   "metadata": {},
   "outputs": [],
   "source": [
    "import pyttsx3"
   ]
  },
  {
   "cell_type": "code",
   "execution_count": null,
   "id": "faff025d",
   "metadata": {},
   "outputs": [],
   "source": [
    "import mysql.connector as mariadb"
   ]
  },
  {
   "cell_type": "code",
   "execution_count": null,
   "id": "3375f5bb",
   "metadata": {},
   "outputs": [],
   "source": [
    "#activo el reconocedor de voz"
   ]
  },
  {
   "cell_type": "code",
   "execution_count": null,
   "id": "e5541f39",
   "metadata": {},
   "outputs": [],
   "source": [
    "r= sr.Recognizer()"
   ]
  },
  {
   "cell_type": "code",
   "execution_count": null,
   "id": "c34c8ae8",
   "metadata": {},
   "outputs": [],
   "source": [
    "#activamos el microfono y cargamos el texto dicho\n",
    "def activarMicrofono():\n",
    "    with sr.Microphone() as source:\n",
    "        print(\"Di algo:\")\n",
    "        #redusco el sonido del exterior, permite que la lectura sea mas eficiente.\n",
    "        r.adjust_for_ambient_noise(source,duration=1)\n",
    "\n",
    "        audio=r.listen(source)\n",
    "        try:\n",
    "            #configuro el lenguaje a español panama\n",
    "            text=r.recognize_google(audio,language='es-PA')\n",
    "            palabra_usuario=text\n",
    "            print('Has dicho: {}'.format(text))\n",
    "        except:\n",
    "            palabra_usuario=\"error\"\n",
    "            vozAsistente(\"Uy, lo siento no pude reconocer tu voz\")\n",
    "           \n",
    "            \n",
    "    return palabra_usuario"
   ]
  },
  {
   "cell_type": "code",
   "execution_count": null,
   "id": "eec788a8",
   "metadata": {},
   "outputs": [],
   "source": [
    "#if palabra_usuario is 'busqueda':"
   ]
  },
  {
   "cell_type": "code",
   "execution_count": null,
   "id": "593702a5",
   "metadata": {},
   "outputs": [],
   "source": [
    "#activa la voz de la asistente\n",
    "def vozAsistente(texto):\n",
    "    engine=pyttsx3.init()\n",
    "    engine.setProperty(\"rate\",150)\n",
    "\n",
    "    engine.say(texto)\n",
    "    engine.runAndWait()"
   ]
  },
  {
   "cell_type": "code",
   "execution_count": null,
   "id": "19c77feb",
   "metadata": {},
   "outputs": [],
   "source": [
    "from googlesearch import search\n",
    "#busqueda en internet por voz\n",
    "def iniciarBusqueda():\n",
    "    vozAsistente('¿Que deseas buscar?')\n",
    "    google_query=activarMicrofono()\n",
    "    vozAsistente('Estas son las paginas encontradas')\n",
    "    for j in search(google_query, tld=\"co.in\", num=10, stop=10, pause=2):\n",
    "         print(j)"
   ]
  },
  {
   "cell_type": "code",
   "execution_count": null,
   "id": "e5c04b4b",
   "metadata": {},
   "outputs": [],
   "source": [
    "#Coneccion con bbdd"
   ]
  },
  {
   "cell_type": "code",
   "execution_count": null,
   "id": "89f5a633",
   "metadata": {},
   "outputs": [],
   "source": [
    "#conexion que permite cuestionar a la asistente\n",
    "def conexionBBDD():\n",
    "    print(\"intentando mostrar datos:\")\n",
    "    mariadb_conexion = mariadb.connect(host='2.139.176.212', port='3306',\n",
    "                                   user='db_aDobras', password='DobrAs:33', database='bddobras')\n",
    "    cursor = mariadb_conexion.cursor()\n",
    "    pregunta_usuario=activarMicrofono()\n",
    "    try:\n",
    "        #no se si cambiar el where por like, asi habra mas probabilidad de respuesta\n",
    "        #opcion: ponerle like y que lance que no entendio muy bien pero aqui algunas respuestas\n",
    "        consulta=\"SELECT id_,pregunta,respuesta FROM asistentevirtual WHERE pregunta= %s\"\n",
    "        valor=(pregunta_usuario,)\n",
    "        cursor.execute(consulta,valor)\n",
    "       \n",
    "        for id_, pregunta,respuesta in cursor:\n",
    "            print(\"intentando cargar datos:\")\n",
    "           \n",
    "            vozAsistente( respuesta)\n",
    "            print(\"Datos cargados exitosamente!\")\n",
    "   \"\"\"     \n",
    "        if len(resultado)== 0:\n",
    "            vozAsistente( 'Nunca me habías echo esa pregunta, ¿Quieres que te responda algo en especial?')\n",
    "            crear=activarMicrofono()\n",
    "            if(crear=='si'):\n",
    "                crearPregunta(pregunta_usuario)\n",
    "            elif(crear=='no'):\n",
    "                vozAsistente( 'Vale!')\n",
    "                \"\"\"\n",
    "    except mariadb.Error as error:\n",
    "        print(\"Error: {}\".format(error))\n",
    "    mariadb_conexion.close()"
   ]
  },
  {
   "cell_type": "code",
   "execution_count": null,
   "id": "9c90646d",
   "metadata": {},
   "outputs": [],
   "source": [
    "# Permite crear nuevas preguntas.\n",
    "def crearPregunta(pregunta_usuario):\n",
    "    \n",
    "            mariadb_conexion = mariadb.connect(host='2.139.176.212', port='3306',user='db_aDobras', password='DobrAs:33', database='bddobras')\n",
    "            cursor = mariadb_conexion.cursor()\n",
    "            vozAsistente( 'Muy Bien!, Define '+pregunta_usuario)\n",
    "\n",
    "            respuestaNueva=activarMicrofono()\n",
    "            try:\n",
    "                consulta=\"INSERT INTO bddobras.asistentevirtual(pregunta, respuesta) VALUES (%s, %s)\"\n",
    "                valor=(pregunta_usuario,respuestaNueva,)\n",
    "                cursor.execute(consulta,valor)\n",
    "            except mariadb.Error as error:\n",
    "                print(\"Error: {}\".format(error))\n",
    "            mariadb_conexion.close()\n"
   ]
  },
  {
   "cell_type": "code",
   "execution_count": null,
   "id": "e925a0ed",
   "metadata": {},
   "outputs": [],
   "source": [
    "palabra_usuario= activarMicrofono()\n",
    "#buscamos cosas por internet\n",
    "if (palabra_usuario == 'buscar'):\n",
    "    iniciarBusqueda()\n",
    "#holamundo de la api\n",
    "if(palabra_usuario=='hola'):\n",
    "    vozAsistente('Hola, ¿Como estas?')\n",
    "#realizo preguntas a la asistente\n",
    "if(palabra_usuario=='pregunta'):\n",
    "    vozAsistente('¿Que pregunta me quieres hacer?')\n",
    "    conexionBBDD()\n",
    "#tengo que ponerlo en un bucle, marcado error.\n",
    "if(palabra_usuario=='error'):\n",
    "    palabra_usuario=vozAsistente('¿Podrias repetirme lo que dijiste?')\n",
    "    activarMicrofono()\n"
   ]
  },
  {
   "cell_type": "code",
   "execution_count": null,
   "id": "1bd808c1",
   "metadata": {},
   "outputs": [],
   "source": []
  }
 ],
 "metadata": {
  "kernelspec": {
   "display_name": "Python 3",
   "language": "python",
   "name": "python3"
  },
  "language_info": {
   "codemirror_mode": {
    "name": "ipython",
    "version": 3
   },
   "file_extension": ".py",
   "mimetype": "text/x-python",
   "name": "python",
   "nbconvert_exporter": "python",
   "pygments_lexer": "ipython3",
   "version": "3.9.5"
  }
 },
 "nbformat": 4,
 "nbformat_minor": 5
}
