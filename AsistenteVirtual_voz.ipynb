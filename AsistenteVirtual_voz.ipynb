{
 "cells": [
  {
   "cell_type": "code",
   "execution_count": 1,
   "id": "6d235d9d",
   "metadata": {},
   "outputs": [],
   "source": [
    "#Aqui instalo los sonidos, microfonos, busquedas, librerias."
   ]
  },
  {
   "cell_type": "code",
   "execution_count": 2,
   "id": "997698dd",
   "metadata": {},
   "outputs": [
    {
     "name": "stdout",
     "output_type": "stream",
     "text": [
      "Requirement already satisfied: playsound in c:\\users\\adobr\\appdata\\local\\programs\\python\\python39\\lib\\site-packages (1.2.2)\n",
      "Note: you may need to restart the kernel to use updated packages.\n"
     ]
    },
    {
     "name": "stderr",
     "output_type": "stream",
     "text": [
      "WARNING: You are using pip version 21.1.3; however, version 21.2.4 is available.\n",
      "You should consider upgrading via the 'c:\\users\\adobr\\appdata\\local\\programs\\python\\python39\\python.exe -m pip install --upgrade pip' command.\n"
     ]
    }
   ],
   "source": [
    "pip install playsound"
   ]
  },
  {
   "cell_type": "code",
   "execution_count": 3,
   "id": "6d1b9d8b",
   "metadata": {},
   "outputs": [
    {
     "name": "stdout",
     "output_type": "stream",
     "text": [
      "Requirement already satisfied: beautifulsoup4 in c:\\users\\adobr\\appdata\\local\\programs\\python\\python39\\lib\\site-packages (4.9.3)\n",
      "Requirement already satisfied: soupsieve>1.2 in c:\\users\\adobr\\appdata\\local\\programs\\python\\python39\\lib\\site-packages (from beautifulsoup4) (2.2.1)\n",
      "Note: you may need to restart the kernel to use updated packages.\n"
     ]
    },
    {
     "name": "stderr",
     "output_type": "stream",
     "text": [
      "WARNING: You are using pip version 21.1.3; however, version 21.2.4 is available.\n",
      "You should consider upgrading via the 'c:\\users\\adobr\\appdata\\local\\programs\\python\\python39\\python.exe -m pip install --upgrade pip' command.\n"
     ]
    }
   ],
   "source": [
    "pip install beautifulsoup4"
   ]
  },
  {
   "cell_type": "code",
   "execution_count": 4,
   "id": "7e66117c",
   "metadata": {},
   "outputs": [
    {
     "name": "stdout",
     "output_type": "stream",
     "text": [
      "Requirement already satisfied: gTTS in c:\\users\\adobr\\appdata\\local\\programs\\python\\python39\\lib\\site-packages (2.2.3)\n",
      "Requirement already satisfied: requests in c:\\users\\adobr\\appdata\\local\\programs\\python\\python39\\lib\\site-packages (from gTTS) (2.25.1)\n",
      "Requirement already satisfied: click in c:\\users\\adobr\\appdata\\local\\programs\\python\\python39\\lib\\site-packages (from gTTS) (8.0.1)\n",
      "Requirement already satisfied: six in c:\\users\\adobr\\appdata\\local\\programs\\python\\python39\\lib\\site-packages (from gTTS) (1.16.0)\n",
      "Requirement already satisfied: colorama in c:\\users\\adobr\\appdata\\local\\programs\\python\\python39\\lib\\site-packages (from click->gTTS) (0.4.4)\n",
      "Requirement already satisfied: certifi>=2017.4.17 in c:\\users\\adobr\\appdata\\local\\programs\\python\\python39\\lib\\site-packages (from requests->gTTS) (2021.5.30)\n",
      "Requirement already satisfied: chardet<5,>=3.0.2 in c:\\users\\adobr\\appdata\\local\\programs\\python\\python39\\lib\\site-packages (from requests->gTTS) (4.0.0)\n",
      "Requirement already satisfied: idna<3,>=2.5 in c:\\users\\adobr\\appdata\\local\\programs\\python\\python39\\lib\\site-packages (from requests->gTTS) (2.10)Note: you may need to restart the kernel to use updated packages.\n",
      "\n",
      "Requirement already satisfied: urllib3<1.27,>=1.21.1 in c:\\users\\adobr\\appdata\\local\\programs\\python\\python39\\lib\\site-packages (from requests->gTTS) (1.26.5)\n"
     ]
    },
    {
     "name": "stderr",
     "output_type": "stream",
     "text": [
      "WARNING: You are using pip version 21.1.3; however, version 21.2.4 is available.\n",
      "You should consider upgrading via the 'c:\\users\\adobr\\appdata\\local\\programs\\python\\python39\\python.exe -m pip install --upgrade pip' command.\n"
     ]
    }
   ],
   "source": [
    "pip install gTTS"
   ]
  },
  {
   "cell_type": "code",
   "execution_count": 5,
   "id": "c40358d9",
   "metadata": {},
   "outputs": [
    {
     "name": "stdout",
     "output_type": "stream",
     "text": [
      "Requirement already satisfied: google in c:\\users\\adobr\\appdata\\local\\programs\\python\\python39\\lib\\site-packages (3.0.0)\n",
      "Requirement already satisfied: beautifulsoup4 in c:\\users\\adobr\\appdata\\local\\programs\\python\\python39\\lib\\site-packages (from google) (4.9.3)\n",
      "Requirement already satisfied: soupsieve>1.2 in c:\\users\\adobr\\appdata\\local\\programs\\python\\python39\\lib\\site-packages (from beautifulsoup4->google) (2.2.1)\n",
      "Note: you may need to restart the kernel to use updated packages.\n"
     ]
    },
    {
     "name": "stderr",
     "output_type": "stream",
     "text": [
      "WARNING: You are using pip version 21.1.3; however, version 21.2.4 is available.\n",
      "You should consider upgrading via the 'c:\\users\\adobr\\appdata\\local\\programs\\python\\python39\\python.exe -m pip install --upgrade pip' command.\n"
     ]
    }
   ],
   "source": [
    "pip install google"
   ]
  },
  {
   "cell_type": "code",
   "execution_count": 6,
   "id": "2fb4186a",
   "metadata": {},
   "outputs": [
    {
     "name": "stdout",
     "output_type": "stream",
     "text": [
      "Requirement already satisfied: mysql-connector-python in c:\\users\\adobr\\appdata\\local\\programs\\python\\python39\\lib\\site-packages (8.0.25)\n",
      "Requirement already satisfied: protobuf>=3.0.0 in c:\\users\\adobr\\appdata\\local\\programs\\python\\python39\\lib\\site-packages (from mysql-connector-python) (3.17.3)\n",
      "Requirement already satisfied: six>=1.9 in c:\\users\\adobr\\appdata\\local\\programs\\python\\python39\\lib\\site-packages (from protobuf>=3.0.0->mysql-connector-python) (1.16.0)\n",
      "Note: you may need to restart the kernel to use updated packages.\n"
     ]
    },
    {
     "name": "stderr",
     "output_type": "stream",
     "text": [
      "WARNING: You are using pip version 21.1.3; however, version 21.2.4 is available.\n",
      "You should consider upgrading via the 'c:\\users\\adobr\\appdata\\local\\programs\\python\\python39\\python.exe -m pip install --upgrade pip' command.\n"
     ]
    }
   ],
   "source": [
    "pip install mysql-connector-python"
   ]
  },
  {
   "cell_type": "code",
   "execution_count": 7,
   "id": "0354c2b2",
   "metadata": {},
   "outputs": [
    {
     "name": "stdout",
     "output_type": "stream",
     "text": [
      "Requirement already satisfied: SpeechRecognition in c:\\users\\adobr\\appdata\\local\\programs\\python\\python39\\lib\\site-packages (3.8.1)Note: you may need to restart the kernel to use updated packages.\n"
     ]
    },
    {
     "name": "stderr",
     "output_type": "stream",
     "text": [
      "WARNING: You are using pip version 21.1.3; however, version 21.2.4 is available.\n",
      "You should consider upgrading via the 'c:\\users\\adobr\\appdata\\local\\programs\\python\\python39\\python.exe -m pip install --upgrade pip' command.\n"
     ]
    },
    {
     "name": "stdout",
     "output_type": "stream",
     "text": [
      "\n"
     ]
    }
   ],
   "source": [
    "pip install SpeechRecognition"
   ]
  },
  {
   "cell_type": "code",
   "execution_count": 8,
   "id": "acae04be",
   "metadata": {},
   "outputs": [
    {
     "name": "stdout",
     "output_type": "stream",
     "text": [
      "Requirement already satisfied: pyttsx3 in c:\\users\\adobr\\appdata\\local\\programs\\python\\python39\\lib\\site-packages (2.90)\n",
      "Requirement already satisfied: pywin32 in c:\\users\\adobr\\appdata\\local\\programs\\python\\python39\\lib\\site-packages (from pyttsx3) (301)\n",
      "Requirement already satisfied: pypiwin32 in c:\\users\\adobr\\appdata\\local\\programs\\python\\python39\\lib\\site-packages (from pyttsx3) (223)\n",
      "Requirement already satisfied: comtypes in c:\\users\\adobr\\appdata\\local\\programs\\python\\python39\\lib\\site-packages (from pyttsx3) (1.1.10)\n",
      "Note: you may need to restart the kernel to use updated packages.\n"
     ]
    },
    {
     "name": "stderr",
     "output_type": "stream",
     "text": [
      "WARNING: You are using pip version 21.1.3; however, version 21.2.4 is available.\n",
      "You should consider upgrading via the 'c:\\users\\adobr\\appdata\\local\\programs\\python\\python39\\python.exe -m pip install --upgrade pip' command.\n"
     ]
    }
   ],
   "source": [
    "pip install pyttsx3"
   ]
  },
  {
   "cell_type": "code",
   "execution_count": 9,
   "id": "459fb107",
   "metadata": {},
   "outputs": [
    {
     "name": "stdout",
     "output_type": "stream",
     "text": [
      "Requirement already satisfied: mariadb in c:\\users\\adobr\\appdata\\local\\programs\\python\\python39\\lib\\site-packages (1.0.7)\n",
      "Note: you may need to restart the kernel to use updated packages.\n"
     ]
    },
    {
     "name": "stderr",
     "output_type": "stream",
     "text": [
      "WARNING: You are using pip version 21.1.3; however, version 21.2.4 is available.\n",
      "You should consider upgrading via the 'c:\\users\\adobr\\appdata\\local\\programs\\python\\python39\\python.exe -m pip install --upgrade pip' command.\n"
     ]
    }
   ],
   "source": [
    "pip install mariadb"
   ]
  },
  {
   "cell_type": "code",
   "execution_count": 10,
   "id": "85cd09a9",
   "metadata": {},
   "outputs": [
    {
     "name": "stdout",
     "output_type": "stream",
     "text": [
      "Requirement already satisfied: googlesearch-python in c:\\users\\adobr\\appdata\\local\\programs\\python\\python39\\lib\\site-packages (1.0.1)\n",
      "Requirement already satisfied: requests==2.25.1 in c:\\users\\adobr\\appdata\\local\\programs\\python\\python39\\lib\\site-packages (from googlesearch-python) (2.25.1)\n",
      "Requirement already satisfied: beautifulsoup4==4.9.3 in c:\\users\\adobr\\appdata\\local\\programs\\python\\python39\\lib\\site-packages (from googlesearch-python) (4.9.3)\n",
      "Requirement already satisfied: soupsieve>1.2 in c:\\users\\adobr\\appdata\\local\\programs\\python\\python39\\lib\\site-packages (from beautifulsoup4==4.9.3->googlesearch-python) (2.2.1)\n",
      "Requirement already satisfied: urllib3<1.27,>=1.21.1 in c:\\users\\adobr\\appdata\\local\\programs\\python\\python39\\lib\\site-packages (from requests==2.25.1->googlesearch-python) (1.26.5)\n",
      "Requirement already satisfied: idna<3,>=2.5 in c:\\users\\adobr\\appdata\\local\\programs\\python\\python39\\lib\\site-packages (from requests==2.25.1->googlesearch-python) (2.10)\n",
      "Requirement already satisfied: certifi>=2017.4.17 in c:\\users\\adobr\\appdata\\local\\programs\\python\\python39\\lib\\site-packages (from requests==2.25.1->googlesearch-python) (2021.5.30)\n",
      "Requirement already satisfied: chardet<5,>=3.0.2 in c:\\users\\adobr\\appdata\\local\\programs\\python\\python39\\lib\\site-packages (from requests==2.25.1->googlesearch-python) (4.0.0)\n",
      "Note: you may need to restart the kernel to use updated packages.\n"
     ]
    },
    {
     "name": "stderr",
     "output_type": "stream",
     "text": [
      "WARNING: You are using pip version 21.1.3; however, version 21.2.4 is available.\n",
      "You should consider upgrading via the 'c:\\users\\adobr\\appdata\\local\\programs\\python\\python39\\python.exe -m pip install --upgrade pip' command.\n"
     ]
    }
   ],
   "source": [
    "pip install googlesearch-python"
   ]
  },
  {
   "cell_type": "code",
   "execution_count": 119,
   "id": "246019db",
   "metadata": {},
   "outputs": [
    {
     "name": "stdout",
     "output_type": "stream",
     "text": [
      "Collecting selenium\n",
      "  Downloading selenium-3.141.0-py2.py3-none-any.whl (904 kB)\n",
      "Requirement already satisfied: urllib3 in c:\\users\\adobr\\appdata\\local\\programs\\python\\python39\\lib\\site-packages (from selenium) (1.26.5)\n",
      "Installing collected packages: selenium\n",
      "Successfully installed selenium-3.141.0\n",
      "Note: you may need to restart the kernel to use updated packages.\n"
     ]
    },
    {
     "name": "stderr",
     "output_type": "stream",
     "text": [
      "WARNING: You are using pip version 21.1.3; however, version 21.2.4 is available.\n",
      "You should consider upgrading via the 'c:\\users\\adobr\\appdata\\local\\programs\\python\\python39\\python.exe -m pip install --upgrade pip' command.\n"
     ]
    }
   ],
   "source": [
    "pip install selenium"
   ]
  },
  {
   "cell_type": "code",
   "execution_count": 11,
   "id": "7924da8a",
   "metadata": {},
   "outputs": [
    {
     "name": "stdout",
     "output_type": "stream",
     "text": [
      "Requirement already satisfied: mouse in c:\\users\\adobr\\appdata\\local\\programs\\python\\python39\\lib\\site-packages (0.7.1)\n",
      "Note: you may need to restart the kernel to use updated packages.\n"
     ]
    },
    {
     "name": "stderr",
     "output_type": "stream",
     "text": [
      "WARNING: You are using pip version 21.1.3; however, version 21.2.4 is available.\n",
      "You should consider upgrading via the 'c:\\users\\adobr\\appdata\\local\\programs\\python\\python39\\python.exe -m pip install --upgrade pip' command.\n"
     ]
    }
   ],
   "source": [
    "pip install mouse"
   ]
  },
  {
   "cell_type": "code",
   "execution_count": 12,
   "id": "581c5b49",
   "metadata": {},
   "outputs": [
    {
     "name": "stdout",
     "output_type": "stream",
     "text": [
      "Requirement already satisfied: keyboard in c:\\users\\adobr\\appdata\\local\\programs\\python\\python39\\lib\\site-packages (0.13.5)\n",
      "Note: you may need to restart the kernel to use updated packages.\n"
     ]
    },
    {
     "name": "stderr",
     "output_type": "stream",
     "text": [
      "WARNING: You are using pip version 21.1.3; however, version 21.2.4 is available.\n",
      "You should consider upgrading via the 'c:\\users\\adobr\\appdata\\local\\programs\\python\\python39\\python.exe -m pip install --upgrade pip' command.\n"
     ]
    }
   ],
   "source": [
    "pip install keyboard"
   ]
  },
  {
   "cell_type": "code",
   "execution_count": 13,
   "id": "0de33b9f",
   "metadata": {},
   "outputs": [
    {
     "name": "stdout",
     "output_type": "stream",
     "text": [
      "Requirement already satisfied: urllib3 in c:\\users\\adobr\\appdata\\local\\programs\\python\\python39\\lib\\site-packages (1.26.5)\n",
      "Note: you may need to restart the kernel to use updated packages.\n"
     ]
    },
    {
     "name": "stderr",
     "output_type": "stream",
     "text": [
      "WARNING: You are using pip version 21.1.3; however, version 21.2.4 is available.\n",
      "You should consider upgrading via the 'c:\\users\\adobr\\appdata\\local\\programs\\python\\python39\\python.exe -m pip install --upgrade pip' command.\n"
     ]
    }
   ],
   "source": [
    "pip install urllib3"
   ]
  },
  {
   "cell_type": "code",
   "execution_count": 14,
   "id": "7b861820",
   "metadata": {},
   "outputs": [
    {
     "name": "stdout",
     "output_type": "stream",
     "text": [
      "Requirement already satisfied: psutil in c:\\users\\adobr\\appdata\\local\\programs\\python\\python39\\lib\\site-packages (5.8.0)\n",
      "Note: you may need to restart the kernel to use updated packages.\n"
     ]
    },
    {
     "name": "stderr",
     "output_type": "stream",
     "text": [
      "WARNING: You are using pip version 21.1.3; however, version 21.2.4 is available.\n",
      "You should consider upgrading via the 'c:\\users\\adobr\\appdata\\local\\programs\\python\\python39\\python.exe -m pip install --upgrade pip' command.\n"
     ]
    }
   ],
   "source": [
    "pip install psutil"
   ]
  },
  {
   "cell_type": "code",
   "execution_count": 93,
   "id": "b396dfe8",
   "metadata": {},
   "outputs": [
    {
     "name": "stdout",
     "output_type": "stream",
     "text": [
      "Requirement already satisfied: beautifulsoup4 in c:\\users\\adobr\\appdata\\local\\programs\\python\\python39\\lib\\site-packages (4.9.3)\n",
      "Requirement already satisfied: soupsieve>1.2 in c:\\users\\adobr\\appdata\\local\\programs\\python\\python39\\lib\\site-packages (from beautifulsoup4) (2.2.1)\n",
      "Note: you may need to restart the kernel to use updated packages.\n"
     ]
    },
    {
     "name": "stderr",
     "output_type": "stream",
     "text": [
      "WARNING: You are using pip version 21.1.3; however, version 21.2.4 is available.\n",
      "You should consider upgrading via the 'c:\\users\\adobr\\appdata\\local\\programs\\python\\python39\\python.exe -m pip install --upgrade pip' command.\n"
     ]
    }
   ],
   "source": [
    "pip install beautifulsoup4"
   ]
  },
  {
   "cell_type": "code",
   "execution_count": 138,
   "id": "131a7a9b",
   "metadata": {},
   "outputs": [
    {
     "name": "stdout",
     "output_type": "stream",
     "text": [
      "Collecting webbotNote: you may need to restart the kernel to use updated packages.\n"
     ]
    },
    {
     "name": "stderr",
     "output_type": "stream",
     "text": [
      "WARNING: You are using pip version 21.1.3; however, version 21.2.4 is available.\n",
      "You should consider upgrading via the 'c:\\users\\adobr\\appdata\\local\\programs\\python\\python39\\python.exe -m pip install --upgrade pip' command.\n"
     ]
    },
    {
     "name": "stdout",
     "output_type": "stream",
     "text": [
      "\n",
      "  Downloading webbot-0.34-py3-none-any.whl (12.9 MB)\n",
      "Requirement already satisfied: selenium in c:\\users\\adobr\\appdata\\local\\programs\\python\\python39\\lib\\site-packages (from webbot) (3.141.0)\n",
      "Requirement already satisfied: urllib3 in c:\\users\\adobr\\appdata\\local\\programs\\python\\python39\\lib\\site-packages (from selenium->webbot) (1.26.5)\n",
      "Installing collected packages: webbot\n",
      "Successfully installed webbot-0.34\n"
     ]
    }
   ],
   "source": [
    "pip install webbot"
   ]
  },
  {
   "cell_type": "code",
   "execution_count": 15,
   "id": "04f07a29",
   "metadata": {},
   "outputs": [],
   "source": [
    "#Importo las librerias necesarias"
   ]
  },
  {
   "cell_type": "code",
   "execution_count": 16,
   "id": "c6510fff",
   "metadata": {},
   "outputs": [],
   "source": [
    "from gtts import gTTS"
   ]
  },
  {
   "cell_type": "code",
   "execution_count": 17,
   "id": "0cbc45c6",
   "metadata": {},
   "outputs": [],
   "source": [
    "import psutil"
   ]
  },
  {
   "cell_type": "code",
   "execution_count": 18,
   "id": "6592b2e6",
   "metadata": {},
   "outputs": [],
   "source": [
    "import webbrowser"
   ]
  },
  {
   "cell_type": "code",
   "execution_count": 19,
   "id": "79733e71",
   "metadata": {},
   "outputs": [],
   "source": [
    "from playsound import playsound"
   ]
  },
  {
   "cell_type": "code",
   "execution_count": 20,
   "id": "26adea75",
   "metadata": {},
   "outputs": [],
   "source": [
    "import speech_recognition as sr"
   ]
  },
  {
   "cell_type": "code",
   "execution_count": 21,
   "id": "bc88213d",
   "metadata": {},
   "outputs": [],
   "source": [
    "import pyttsx3"
   ]
  },
  {
   "cell_type": "code",
   "execution_count": 22,
   "id": "f612741a",
   "metadata": {},
   "outputs": [],
   "source": [
    "import mysql.connector as mariadb"
   ]
  },
  {
   "cell_type": "code",
   "execution_count": 23,
   "id": "74a896ca",
   "metadata": {},
   "outputs": [],
   "source": [
    "from IPython.display import Image"
   ]
  },
  {
   "cell_type": "code",
   "execution_count": 24,
   "id": "1997b015",
   "metadata": {},
   "outputs": [],
   "source": [
    "from itertools import chain"
   ]
  },
  {
   "cell_type": "code",
   "execution_count": 25,
   "id": "89d4de7f",
   "metadata": {},
   "outputs": [],
   "source": [
    "from datetime import date\n",
    "from datetime import datetime"
   ]
  },
  {
   "cell_type": "code",
   "execution_count": 26,
   "id": "37b86947",
   "metadata": {},
   "outputs": [],
   "source": [
    "import requests"
   ]
  },
  {
   "cell_type": "code",
   "execution_count": 173,
   "id": "115bfde2",
   "metadata": {},
   "outputs": [],
   "source": [
    "import time"
   ]
  },
  {
   "cell_type": "code",
   "execution_count": 27,
   "id": "a00ad779",
   "metadata": {},
   "outputs": [],
   "source": [
    "import mouse"
   ]
  },
  {
   "cell_type": "code",
   "execution_count": 28,
   "id": "ff193c7b",
   "metadata": {},
   "outputs": [],
   "source": [
    "import keyboard"
   ]
  },
  {
   "cell_type": "code",
   "execution_count": 29,
   "id": "b3c7901c",
   "metadata": {},
   "outputs": [],
   "source": [
    "from tkinter import *"
   ]
  },
  {
   "cell_type": "code",
   "execution_count": 30,
   "id": "3e3a08eb",
   "metadata": {},
   "outputs": [],
   "source": [
    "import math"
   ]
  },
  {
   "cell_type": "code",
   "execution_count": 31,
   "id": "dc274689",
   "metadata": {},
   "outputs": [],
   "source": [
    "import os"
   ]
  },
  {
   "cell_type": "code",
   "execution_count": 32,
   "id": "d870deee",
   "metadata": {},
   "outputs": [],
   "source": [
    "ciudad='Madrid,ES'\n",
    "api_key=\"e7cdb6db20d94db83272aa82c77b946a\""
   ]
  },
  {
   "cell_type": "code",
   "execution_count": 33,
   "id": "525b7b73",
   "metadata": {},
   "outputs": [],
   "source": [
    "def get_weather(api_key,ciudad):\n",
    "    url=f\"http://api.openweathermap.org/data/2.5/weather?q={ciudad}&appid={api_key}\"\n",
    "    response=requests.get(url).json()\n",
    "    temp= response['main']['temp']\n",
    "    #parsea a celsius\n",
    "    temp=(temp*1.8)- 459.67\n",
    "    temp= math.floor((temp))\n",
    "    vozAsistente('Estamos a '+str(temp)+' grados')\n",
    "    #print(response)"
   ]
  },
  {
   "cell_type": "code",
   "execution_count": 34,
   "id": "3375f5bb",
   "metadata": {},
   "outputs": [],
   "source": [
    "#activo el reconocedor de voz"
   ]
  },
  {
   "cell_type": "code",
   "execution_count": 35,
   "id": "e5541f39",
   "metadata": {},
   "outputs": [],
   "source": [
    "r= sr.Recognizer()"
   ]
  },
  {
   "cell_type": "code",
   "execution_count": 36,
   "id": "c34c8ae8",
   "metadata": {},
   "outputs": [],
   "source": [
    "#activamos el microfono y cargamos el texto dicho\n",
    "def activarMicrofono():\n",
    "    with sr.Microphone() as source:\n",
    "        print(\"Di algo:\")\n",
    "        #redusco el sonido del exterior, permite que la lectura sea mas eficiente.\n",
    "        r.adjust_for_ambient_noise(source,duration=1)\n",
    "\n",
    "        audio=r.listen(source)\n",
    "        try:\n",
    "            #configuro el lenguaje a español panama\n",
    "            text=r.recognize_google(audio,language='es-PA')\n",
    "            palabra_usuario=text\n",
    "            print('Has dicho: {}'.format(text))\n",
    "        except:\n",
    "            palabra_usuario=\"error\"\n",
    "            vozAsistente(\"Uy, lo siento no pude reconocer tu voz\")\n",
    "           \n",
    "            \n",
    "    return palabra_usuario"
   ]
  },
  {
   "cell_type": "code",
   "execution_count": 37,
   "id": "031a51ca",
   "metadata": {},
   "outputs": [],
   "source": [
    "#activa la voz de la asistente\n",
    "def vozAsistente(texto):\n",
    "    engine=pyttsx3.init()\n",
    "    engine.setProperty(\"rate\",150)\n",
    "    engine.say(texto)\n",
    "    engine.runAndWait()"
   ]
  },
  {
   "cell_type": "code",
   "execution_count": 38,
   "id": "79a9adc2",
   "metadata": {},
   "outputs": [],
   "source": [
    "from googlesearch import search\n",
    "#busqueda en internet por voz\n",
    "def iniciarBusqueda():\n",
    "    vozAsistente('¿Que deseas buscar?')\n",
    "    google_query=activarMicrofono()\n",
    "    vozAsistente('Estas son las paginas encontradas:')\n",
    "    for j in search(google_query, tld=\"co.in\", num=10, stop=10, pause=2):\n",
    "         print(j)"
   ]
  },
  {
   "cell_type": "markdown",
   "id": "c56eac05",
   "metadata": {},
   "source": [
    "# - - - - - - - - - -  - - - - - - -  CONEXION CON BASE DE DATOS - - - - - - - - - - - - "
   ]
  },
  {
   "cell_type": "code",
   "execution_count": 39,
   "id": "877122d0",
   "metadata": {},
   "outputs": [],
   "source": [
    "#conexion que permite cuestionar a la asistente cosas personales\n",
    "def conexionBBDD():\n",
    "    print(\"intentando mostrar datos:\")\n",
    "    mariadb_conexion = mariadb.connect(host='127.0.0.1', port='3306',\n",
    "                                   user='root', password='adilem', database='asistentevirtual')\n",
    "    cursor = mariadb_conexion.cursor()\n",
    "    pregunta_usuario=activarMicrofono()\n",
    "    try:\n",
    "        #no se si cambiar el where por like, asi habra mas probabilidad de respuesta\n",
    "        #opcion: ponerle like y que lance que no entendio muy bien pero aqui algunas respuestas\n",
    "        consulta=\"SELECT ID_,pregunta,respuesta FROM asistentevirtual WHERE pregunta= %s\"\n",
    "        valor=(pregunta_usuario,)\n",
    "        cursor.execute(consulta,valor)\n",
    "       \n",
    "        for id_, pregunta,respuesta in cursor:\n",
    "            print(\"intentando cargar datos:\")\n",
    "           \n",
    "            vozAsistente( respuesta)\n",
    "            print(\"Datos cargados exitosamente!\")\n",
    "     \n",
    "        # \"\"\"  if len(resultado)== 0:\n",
    "           # vozAsistente( 'Nunca me habías echo esa pregunta, ¿Quieres que te responda algo en especial?')\n",
    "           # crear=activarMicrofono()\n",
    "           # if(crear=='si'):\n",
    "                #crearPregunta(pregunta_usuario)\n",
    "           # elif(crear=='no'):\n",
    "               # vozAsistente( 'Vale!')\n",
    "                #\"\"\"\n",
    "    except mariadb.Error as error:\n",
    "        print(\"Error: {}\".format(error))\n",
    "    mariadb_conexion.close()"
   ]
  },
  {
   "cell_type": "code",
   "execution_count": 40,
   "id": "cf4efbb4",
   "metadata": {},
   "outputs": [],
   "source": [
    "# Permite crear nuevas preguntas. (NO ACTUALIZADO)\n",
    "def crearPregunta(pregunta_usuario):\n",
    "    \n",
    "            mariadb_conexion = mariadb.connect(host='127.0.0.1', port='3306',user='root', password='adilem', database='asistentevirtual')\n",
    "            cursor = mariadb_conexion.cursor()\n",
    "            vozAsistente( 'Muy Bien!, Define '+pregunta_usuario)\n",
    "\n",
    "            respuestaNueva=activarMicrofono()\n",
    "            try:\n",
    "                #esto hay que actualizarlo\n",
    "                consulta=\"INSERT INTO bddobras.asistentevirtual(pregunta, respuesta) VALUES (%s, %s)\"\n",
    "                valor=(pregunta_usuario,respuestaNueva,)\n",
    "                cursor.execute(consulta,valor)\n",
    "            except mariadb.Error as error:\n",
    "                print(\"Error: {}\".format(error))\n",
    "            mariadb_conexion.close()"
   ]
  },
  {
   "cell_type": "markdown",
   "id": "817850ae",
   "metadata": {},
   "source": [
    "Estas es mi tabla de Busquedas:"
   ]
  },
  {
   "cell_type": "markdown",
   "id": "1cb550c0",
   "metadata": {},
   "source": [
    "Image(filename='CapturaBusquedas.PNG')"
   ]
  },
  {
   "cell_type": "markdown",
   "id": "f3ec97af",
   "metadata": {},
   "source": [
    "Esta es mi tabla de Palabras clave que retornaran el valor a buscar"
   ]
  },
  {
   "cell_type": "markdown",
   "id": "275a6282",
   "metadata": {},
   "source": [
    "Image(filename='ImagenPalabrasClave.PNG')"
   ]
  },
  {
   "cell_type": "code",
   "execution_count": 41,
   "id": "7ff28648",
   "metadata": {},
   "outputs": [],
   "source": [
    "def identificarPalabras(palabraRecreada):\n",
    "    #Lo que hare es: buscar en\n",
    "    mariadb_conexion = mariadb.connect(host='127.0.0.1', port='3306',user='root', password='adilem', database='asistentevirtual')\n",
    "    cursor = mariadb_conexion.cursor()\n",
    "    try:\n",
    "        consulta=\"SELECT ID_palabraclave,sinonimo FROM busquedas WHERE sinonimo= %s\"\n",
    "        valor=(palabraRecreada,)\n",
    "        cursor.execute(consulta,valor)\n",
    "        #Aqui hare una busqueda dentro de la busqueda\n",
    "        #Recorro los sinonimos, al encontrarlo sacamos el id_palabraclave\n",
    "        for id_palabraclave, sinonimo in cursor:\n",
    "            print(\"Identificando frase\")\n",
    "\n",
    "            identificarClave(id_palabraclave)\n",
    "    except mariadb.Error as error:\n",
    "        print(\"Error: {}\".format(error))\n",
    "    mariadb_conexion.close()"
   ]
  },
  {
   "cell_type": "code",
   "execution_count": 42,
   "id": "c7e58eae",
   "metadata": {},
   "outputs": [],
   "source": [
    "def identificarClave(clave_id):\n",
    "    mariadb_conexion = mariadb.connect(host='127.0.0.1', port='3306',user='root', password='adilem', database='asistentevirtual')\n",
    "    cursor = mariadb_conexion.cursor()\n",
    "    try:\n",
    "        consulta=\"SELECT ID_,palabra FROM palabrasclave WHERE ID_= %s\"\n",
    "        valor=(clave_id,)\n",
    "        cursor.execute(consulta,valor)\n",
    "        #Buscamos el id de la clave encontrado, conseguimos clave\n",
    "\n",
    "\n",
    "        for id_,palabra in cursor:\n",
    "            print(\"Mostrando consulta\")\n",
    "            #Razones por las que es importante saber la palabra clave: \n",
    "            # considero que con la palabra clave podre ingresar un menu de acciones que se pueden hacer de manera generalizada\n",
    "\n",
    "            interaccionUsuario(palabra)\n",
    "            print(\"Datos cargados exitosamente!\")\n",
    "    except mariadb.Error as error:\n",
    "        print(\"Error: {}\".format(error))\n",
    "    mariadb_conexion.close()"
   ]
  },
  {
   "cell_type": "code",
   "execution_count": 43,
   "id": "b4b2c2f9",
   "metadata": {},
   "outputs": [],
   "source": [
    "#Menu de interacciones, estas son las palabras claves que obtendremos de la base de datos.\n",
    "#OJETIVO: regular las instrucciones a acceder a una base de datos.\n",
    "def interaccionUsuario(palabra):\n",
    "    now = datetime.now()\n",
    "    if(palabra=='Hola'):\n",
    "        vozAsistente('Hola, ¿Como estas?')\n",
    "    if (palabra=='Hora'  ):\n",
    "        vozAsistente('Son las '+ str(now.hour)+' y '+str(now.minute))\n",
    "    if(palabra=='Dia'):\n",
    "         vozAsistente('Es '+ str(now.strftime('%A'))+', '+str(now.strftime('%w'))+' de '+str(now.strftime('%B'))+' del '+str(now.strftime(\"%Y\")))\n",
    "    if(palabra=='Clima'):\n",
    "         get_weather(api_key,ciudad)"
   ]
  },
  {
   "cell_type": "markdown",
   "id": "5827e71b",
   "metadata": {},
   "source": [
    "# - - - - - - - - - - - - - - - - - - - - - - - - - - - - - - - - - - - - - - - - - - - - - - - - - - - - - - - - - -"
   ]
  },
  {
   "cell_type": "markdown",
   "id": "b75728a0",
   "metadata": {},
   "source": [
    "# - - - - - - - - - - - - - - - - - - - - - -  Accesos paginas web - - - - - - - - - - - -  - - - - -"
   ]
  },
  {
   "cell_type": "code",
   "execution_count": 44,
   "id": "10f91bba",
   "metadata": {},
   "outputs": [],
   "source": [
    "#el usuario podra manipular su ordenador por voz\n",
    "#OBJETIVO: funcionalidad para personas con discapacidad o gente muy perezosa\n",
    "#He pensado que a lo mejor la distancia deberia definirla el usuario ya que es algo relativo.\n",
    "def funcionalidadporvoz():\n",
    "    vozAsistente('Dime donde quieres ubicar el mouse') \n",
    "    try:\n",
    "        while True:\n",
    "            palabra_usuario=activarMicrofono()\n",
    "            if(palabra_usuario== 'derecha'):\n",
    "                mouse.move(x = 50, y = 0, absolute=False, duration=0.3)\n",
    "            if(palabra_usuario=='izquierda'):\n",
    "                 mouse.move(x = -50, y = 0, absolute=False, duration=0.3)\n",
    "            if(palabra_usuario=='arriba'):\n",
    "                mouse.move(x = 0, y = -70, absolute=False, duration=0.3)\n",
    "            if(palabra_usuario=='abajo'):\n",
    "                mouse.move(x =0 , y = 70, absolute=False, duration=0.3)\n",
    "            if(palabra_usuario=='click'):\n",
    "                mouse.click('left')\n",
    "            if(palabra_usuario=='escribe'):\n",
    "                vozAsistente('Que escribo?')\n",
    "                keyboard.write(activarMicrofono(), delay=0.5)\n",
    "            if(palabra_usuario=='entrar'):\n",
    "                keyboard.send(\"enter\")\n",
    "    except KeyboardInterrupt:\n",
    "        print('Has oprimido salir.')\n",
    "        pass\n",
    "    "
   ]
  },
  {
   "cell_type": "markdown",
   "id": "0afee491",
   "metadata": {},
   "source": [
    "#NOTAS DE LO ANTERIOR\n",
    "x: Controla la cantidad de píxeles hacia la derecha\n",
    "y: controla la cantidad de píxeles hacia la izquierda\n",
    "abosolute: controla sí que el movimiento sea desde una posición absoluta al ponerlo en True o una posición relativa al ponerlo en False, la posición absoluta indica que va a comenzar a mover el mouse desde el extremo superior derecho de tu pantalla y la posición relativa indica que lo moverá desde la posición actual del mouse.\n",
    "duration: Indica el tiempo en segundos que va a tardar la acción en ser realizada."
   ]
  },
  {
   "cell_type": "code",
   "execution_count": 97,
   "id": "cf4d1c27",
   "metadata": {},
   "outputs": [],
   "source": [
    "import urllib.request\n",
    "from bs4 import BeautifulSoup"
   ]
  },
  {
   "cell_type": "code",
   "execution_count": 117,
   "id": "59a99a36",
   "metadata": {},
   "outputs": [
    {
     "name": "stdout",
     "output_type": "stream",
     "text": [
      "imprimir:\n"
     ]
    }
   ],
   "source": [
    "#con esto hare webscrapping \n",
    "datos = urllib.request.urlopen('https://www.disneyplus.com/es-es/home').read().decode()\n",
    "soup =  BeautifulSoup(datos)\n",
    "tags = soup('a')\n",
    "print('imprimir:')\n",
    "for tag in soup.findAll('a'):\n",
    "\t\tprint('imprimiendo: '+str(tag.get('href')))\n"
   ]
  },
  {
   "cell_type": "code",
   "execution_count": 124,
   "id": "89b89248",
   "metadata": {},
   "outputs": [],
   "source": [
    "#me di cuenta que si quiero obtener los href de cosas como netflix y demas tengo que iniciar sesion de manera interna.\n",
    "from selenium.webdriver.support.ui import WebDriverWait\n",
    "from selenium.webdriver.common.by import By\n",
    "from selenium.webdriver.support import expected_conditions as EC\n",
    "from selenium import webdriver\n",
    "from selenium.webdriver.common.keys import Keys\n"
   ]
  },
  {
   "cell_type": "code",
   "execution_count": 208,
   "id": "c4b05197",
   "metadata": {},
   "outputs": [
    {
     "name": "stdout",
     "output_type": "stream",
     "text": [
      "continuando1\n",
      "entro al bucle\n",
      "entro al bucle1\n",
      "entro al bucle2\n"
     ]
    }
   ],
   "source": [
    "from selenium import webdriver\n",
    "from selenium.webdriver.common.keys import Keys\n",
    "import time, json\n",
    "\n",
    "driver = webdriver.Chrome(executable_path=\"C:/Users/adobr/Downloads/chromedriver\")\n",
    "\n",
    "with open(\"Safepassword.json\") as json_file:\n",
    "    data = json.load(json_file)\n",
    "    vozAsistente('Hola! Tu usuario se esta cargando, porfavor espera.')\n",
    "    for p in data[\"datos\"]:\n",
    "        #Aqui en caso de que son mas de 1 usuario.\n",
    "        \n",
    "    #accedo a la pagina de disneyplus\n",
    "        driver.get(\"https://www.disneyplus.com/es-es/login\")\n",
    "    #esperamos a que cargue \n",
    "    time.sleep(3)\n",
    "    #coloco el usuario \n",
    "    userId = driver.find_element_by_name(\"email\")\n",
    "    userId.send_keys(p[\"id\"])\n",
    "    #clickeamos siguiente\n",
    "    nextPageBtn = driver.find_element_by_name(\"dssLoginSubmit\")\n",
    "    nextPageBtn.click()\n",
    "    #actualizo el link, esperamos a que cargue\n",
    "    time.sleep(3)\n",
    "    #coloco la contraseña\n",
    "    password = driver.find_element_by_id(\"password\")\n",
    "    password.send_keys(p[\"contrasena\"])\n",
    "    #clickeamos siguiente\n",
    "    nextPageBtn2 = driver.find_element_by_name(\"dssLoginSubmit\")\n",
    "    nextPageBtn2.click()\n",
    "#ahora lo importante es sacar los nombres de los labels, guardarlos en un array y despues hacer las instrucciones.\n",
    "     \n",
    "   \n",
    "\n",
    "    time.sleep(3)\n",
    "    #okay, esto de find element por path es inspeccionando elementos en html y adquiriendo sus nombres, todos inician con // y si se requiere\n",
    "    #un name se utiliza *. tambien antes se puede declarar que tipo de seccion estamos buscando con div, input,etc.\n",
    "    avatar = driver.find_element_by_xpath(\"//div[@aria-label='Adilem']/div[@class='sc-iBEsjs sc-likbZx IKMbw profile-avatar' ]\");\n",
    "    avatar.click()\n",
    "    time.sleep(3)\n",
    "    busquedas = driver.find_element_by_xpath(\"//*[name()='svg'][@aria-label='search']\")\n",
    "    busquedas.click();\n",
    "    time.sleep(3)\n",
    "    barrabusquedas = driver.find_element_by_xpath(\"//div[@class='sc-fyjYeE bwDibL' ]\");\n",
    "    #aqui le preguntare al usuario que desea buscar (DEBO AGREGAR EL NOMBRE DEL USUARIO EN FASE DE LIMPIEZA).\n",
    "    vozAsistente('¿Que deseas ver?')\n",
    "    keyboard.write('los simpsons', delay=0.3)\n",
    "    #barrabusquedas.click();\n",
    "    time.sleep(3)\n",
    "    #aqui pondre los div search results y comparare los nombres y seleccionare el que es parecido, sino hay le diremos que no encontramos \n",
    "    #lo que se buscaba.\n",
    "#driver.close()"
   ]
  },
  {
   "cell_type": "markdown",
   "id": "769114cc",
   "metadata": {},
   "source": [
    "# - - - - - - - - - - - INTERACCION CON SISTEMA OS (No finalizado) - - - - - - - - - "
   ]
  },
  {
   "cell_type": "code",
   "execution_count": 46,
   "id": "b809e62f",
   "metadata": {},
   "outputs": [],
   "source": [
    "#Esta parte me esta dando problemas para acceder como admin y mandar el comando\n",
    "#OBJETIVO: queria aprender a conectar y desconectar el wifi del ordenador \n",
    "#UTILIDADES: seria buena idea que cuando un usuario va a un restaurante y escanee el qr, automaticamente se conecte al wifi\n",
    "#en vez de pedirselo a una camarera."
   ]
  },
  {
   "cell_type": "code",
   "execution_count": 47,
   "id": "d8102585",
   "metadata": {},
   "outputs": [],
   "source": [
    "import subprocess\n",
    "import ctypes, sys\n",
    "\n",
    "def is_admin():\n",
    "    try:\n",
    "        return ctypes.windll.shell32.IsUserAnAdmin()\n",
    "    except:\n",
    "        return False\n",
    "\n"
   ]
  },
  {
   "cell_type": "code",
   "execution_count": 48,
   "id": "89bc718c",
   "metadata": {},
   "outputs": [],
   "source": [
    "if is_admin():\n",
    "    # Code of your program here\n",
    "    os.system(\"netsh interface set interface Wi-Fi disabled\")  \n",
    "else:\n",
    "    # Re-run the program with admin rights\n",
    "   \n",
    "    ctypes.windll.shell32.ShellExecuteW(None, \"runas\", sys.executable, \" \".join(sys.argv), None, 1)\n",
    "#def disable():\n",
    "    #subprocess.call(['runas', '/user:Administrator', 'netsh interface set interface Wi-Fi disabled'])\n",
    "   # print('Desactivar wifi')"
   ]
  },
  {
   "cell_type": "code",
   "execution_count": null,
   "id": "f412cfdf",
   "metadata": {},
   "outputs": [],
   "source": [
    "# Es obvio que te dice el porcentaje de la bateria, siri no puede hacer esto.\n",
    "def porcentajebateria():\n",
    "    battery = psutil.sensors_battery()\n",
    "    plugged = battery.power_plugged\n",
    "    percent = str(battery.percent)\n",
    "    vozAsistente('Te queda '+percent+' % de batería')"
   ]
  },
  {
   "cell_type": "markdown",
   "id": "4ae657fb",
   "metadata": {},
   "source": [
    "# - - - - - - - - - - - - - - - - - - - - - - - - - - - - - - - - - - - - - - - - - - - - - - - - - - - - - - - - - -"
   ]
  },
  {
   "cell_type": "code",
   "execution_count": 49,
   "id": "e76720a5",
   "metadata": {},
   "outputs": [],
   "source": []
  },
  {
   "cell_type": "code",
   "execution_count": 54,
   "id": "c8b2dfdb",
   "metadata": {},
   "outputs": [
    {
     "data": {
      "text/plain": [
       "0"
      ]
     },
     "execution_count": 54,
     "metadata": {},
     "output_type": "execute_result"
    }
   ],
   "source": [
    "os.system('spotify')"
   ]
  },
  {
   "cell_type": "code",
   "execution_count": 51,
   "id": "8dacc5b9",
   "metadata": {},
   "outputs": [
    {
     "name": "stdout",
     "output_type": "stream",
     "text": [
      "Di algo:\n"
     ]
    },
    {
     "ename": "KeyboardInterrupt",
     "evalue": "",
     "output_type": "error",
     "traceback": [
      "\u001b[1;31m---------------------------------------------------------------------------\u001b[0m",
      "\u001b[1;31mKeyboardInterrupt\u001b[0m                         Traceback (most recent call last)",
      "\u001b[1;32m<ipython-input-51-9edd9a5f3217>\u001b[0m in \u001b[0;36m<module>\u001b[1;34m\u001b[0m\n\u001b[0;32m      1\u001b[0m \u001b[1;31m#forma generica de asistente virtual, se mejorara cuando este implementada al 100% la base de datos.\u001b[0m\u001b[1;33m\u001b[0m\u001b[1;33m\u001b[0m\u001b[1;33m\u001b[0m\u001b[0m\n\u001b[1;32m----> 2\u001b[1;33m \u001b[0mpalabra_usuario\u001b[0m\u001b[1;33m=\u001b[0m \u001b[0mactivarMicrofono\u001b[0m\u001b[1;33m(\u001b[0m\u001b[1;33m)\u001b[0m\u001b[1;33m\u001b[0m\u001b[1;33m\u001b[0m\u001b[0m\n\u001b[0m\u001b[0;32m      3\u001b[0m \u001b[1;31m#buscamos cosas por internet\u001b[0m\u001b[1;33m\u001b[0m\u001b[1;33m\u001b[0m\u001b[1;33m\u001b[0m\u001b[0m\n\u001b[0;32m      4\u001b[0m \u001b[1;32mif\u001b[0m \u001b[1;33m(\u001b[0m\u001b[0mpalabra_usuario\u001b[0m \u001b[1;33m==\u001b[0m \u001b[1;34m'buscar'\u001b[0m\u001b[1;33m)\u001b[0m\u001b[1;33m:\u001b[0m\u001b[1;33m\u001b[0m\u001b[1;33m\u001b[0m\u001b[0m\n\u001b[0;32m      5\u001b[0m     \u001b[0miniciarBusqueda\u001b[0m\u001b[1;33m(\u001b[0m\u001b[1;33m)\u001b[0m\u001b[1;33m\u001b[0m\u001b[1;33m\u001b[0m\u001b[0m\n",
      "\u001b[1;32m<ipython-input-36-6256ddff3436>\u001b[0m in \u001b[0;36mactivarMicrofono\u001b[1;34m()\u001b[0m\n\u001b[0;32m      6\u001b[0m         \u001b[0mr\u001b[0m\u001b[1;33m.\u001b[0m\u001b[0madjust_for_ambient_noise\u001b[0m\u001b[1;33m(\u001b[0m\u001b[0msource\u001b[0m\u001b[1;33m,\u001b[0m\u001b[0mduration\u001b[0m\u001b[1;33m=\u001b[0m\u001b[1;36m1\u001b[0m\u001b[1;33m)\u001b[0m\u001b[1;33m\u001b[0m\u001b[1;33m\u001b[0m\u001b[0m\n\u001b[0;32m      7\u001b[0m \u001b[1;33m\u001b[0m\u001b[0m\n\u001b[1;32m----> 8\u001b[1;33m         \u001b[0maudio\u001b[0m\u001b[1;33m=\u001b[0m\u001b[0mr\u001b[0m\u001b[1;33m.\u001b[0m\u001b[0mlisten\u001b[0m\u001b[1;33m(\u001b[0m\u001b[0msource\u001b[0m\u001b[1;33m)\u001b[0m\u001b[1;33m\u001b[0m\u001b[1;33m\u001b[0m\u001b[0m\n\u001b[0m\u001b[0;32m      9\u001b[0m         \u001b[1;32mtry\u001b[0m\u001b[1;33m:\u001b[0m\u001b[1;33m\u001b[0m\u001b[1;33m\u001b[0m\u001b[0m\n\u001b[0;32m     10\u001b[0m             \u001b[1;31m#configuro el lenguaje a español panama\u001b[0m\u001b[1;33m\u001b[0m\u001b[1;33m\u001b[0m\u001b[1;33m\u001b[0m\u001b[0m\n",
      "\u001b[1;32mc:\\users\\adobr\\appdata\\local\\programs\\python\\python39\\lib\\site-packages\\speech_recognition\\__init__.py\u001b[0m in \u001b[0;36mlisten\u001b[1;34m(self, source, timeout, phrase_time_limit, snowboy_configuration)\u001b[0m\n\u001b[0;32m    650\u001b[0m                     \u001b[1;32mbreak\u001b[0m\u001b[1;33m\u001b[0m\u001b[1;33m\u001b[0m\u001b[0m\n\u001b[0;32m    651\u001b[0m \u001b[1;33m\u001b[0m\u001b[0m\n\u001b[1;32m--> 652\u001b[1;33m                 \u001b[0mbuffer\u001b[0m \u001b[1;33m=\u001b[0m \u001b[0msource\u001b[0m\u001b[1;33m.\u001b[0m\u001b[0mstream\u001b[0m\u001b[1;33m.\u001b[0m\u001b[0mread\u001b[0m\u001b[1;33m(\u001b[0m\u001b[0msource\u001b[0m\u001b[1;33m.\u001b[0m\u001b[0mCHUNK\u001b[0m\u001b[1;33m)\u001b[0m\u001b[1;33m\u001b[0m\u001b[1;33m\u001b[0m\u001b[0m\n\u001b[0m\u001b[0;32m    653\u001b[0m                 \u001b[1;32mif\u001b[0m \u001b[0mlen\u001b[0m\u001b[1;33m(\u001b[0m\u001b[0mbuffer\u001b[0m\u001b[1;33m)\u001b[0m \u001b[1;33m==\u001b[0m \u001b[1;36m0\u001b[0m\u001b[1;33m:\u001b[0m \u001b[1;32mbreak\u001b[0m  \u001b[1;31m# reached end of the stream\u001b[0m\u001b[1;33m\u001b[0m\u001b[1;33m\u001b[0m\u001b[0m\n\u001b[0;32m    654\u001b[0m                 \u001b[0mframes\u001b[0m\u001b[1;33m.\u001b[0m\u001b[0mappend\u001b[0m\u001b[1;33m(\u001b[0m\u001b[0mbuffer\u001b[0m\u001b[1;33m)\u001b[0m\u001b[1;33m\u001b[0m\u001b[1;33m\u001b[0m\u001b[0m\n",
      "\u001b[1;32mc:\\users\\adobr\\appdata\\local\\programs\\python\\python39\\lib\\site-packages\\speech_recognition\\__init__.py\u001b[0m in \u001b[0;36mread\u001b[1;34m(self, size)\u001b[0m\n\u001b[0;32m    159\u001b[0m \u001b[1;33m\u001b[0m\u001b[0m\n\u001b[0;32m    160\u001b[0m         \u001b[1;32mdef\u001b[0m \u001b[0mread\u001b[0m\u001b[1;33m(\u001b[0m\u001b[0mself\u001b[0m\u001b[1;33m,\u001b[0m \u001b[0msize\u001b[0m\u001b[1;33m)\u001b[0m\u001b[1;33m:\u001b[0m\u001b[1;33m\u001b[0m\u001b[1;33m\u001b[0m\u001b[0m\n\u001b[1;32m--> 161\u001b[1;33m             \u001b[1;32mreturn\u001b[0m \u001b[0mself\u001b[0m\u001b[1;33m.\u001b[0m\u001b[0mpyaudio_stream\u001b[0m\u001b[1;33m.\u001b[0m\u001b[0mread\u001b[0m\u001b[1;33m(\u001b[0m\u001b[0msize\u001b[0m\u001b[1;33m,\u001b[0m \u001b[0mexception_on_overflow\u001b[0m\u001b[1;33m=\u001b[0m\u001b[1;32mFalse\u001b[0m\u001b[1;33m)\u001b[0m\u001b[1;33m\u001b[0m\u001b[1;33m\u001b[0m\u001b[0m\n\u001b[0m\u001b[0;32m    162\u001b[0m \u001b[1;33m\u001b[0m\u001b[0m\n\u001b[0;32m    163\u001b[0m         \u001b[1;32mdef\u001b[0m \u001b[0mclose\u001b[0m\u001b[1;33m(\u001b[0m\u001b[0mself\u001b[0m\u001b[1;33m)\u001b[0m\u001b[1;33m:\u001b[0m\u001b[1;33m\u001b[0m\u001b[1;33m\u001b[0m\u001b[0m\n",
      "\u001b[1;32mc:\\users\\adobr\\appdata\\local\\programs\\python\\python39\\lib\\site-packages\\pyaudio.py\u001b[0m in \u001b[0;36mread\u001b[1;34m(self, num_frames, exception_on_overflow)\u001b[0m\n\u001b[0;32m    606\u001b[0m                           paCanNotReadFromAnOutputOnlyStream)\n\u001b[0;32m    607\u001b[0m \u001b[1;33m\u001b[0m\u001b[0m\n\u001b[1;32m--> 608\u001b[1;33m         \u001b[1;32mreturn\u001b[0m \u001b[0mpa\u001b[0m\u001b[1;33m.\u001b[0m\u001b[0mread_stream\u001b[0m\u001b[1;33m(\u001b[0m\u001b[0mself\u001b[0m\u001b[1;33m.\u001b[0m\u001b[0m_stream\u001b[0m\u001b[1;33m,\u001b[0m \u001b[0mnum_frames\u001b[0m\u001b[1;33m,\u001b[0m \u001b[0mexception_on_overflow\u001b[0m\u001b[1;33m)\u001b[0m\u001b[1;33m\u001b[0m\u001b[1;33m\u001b[0m\u001b[0m\n\u001b[0m\u001b[0;32m    609\u001b[0m \u001b[1;33m\u001b[0m\u001b[0m\n\u001b[0;32m    610\u001b[0m     \u001b[1;32mdef\u001b[0m \u001b[0mget_read_available\u001b[0m\u001b[1;33m(\u001b[0m\u001b[0mself\u001b[0m\u001b[1;33m)\u001b[0m\u001b[1;33m:\u001b[0m\u001b[1;33m\u001b[0m\u001b[1;33m\u001b[0m\u001b[0m\n",
      "\u001b[1;31mKeyboardInterrupt\u001b[0m: "
     ]
    }
   ],
   "source": [
    "#forma generica de asistente virtual, se mejorara cuando este implementada al 100% la base de datos.\n",
    "palabra_usuario= activarMicrofono()\n",
    "#buscamos cosas por internet\n",
    "if (palabra_usuario == 'buscar'):\n",
    "    iniciarBusqueda()\n",
    "#holamundo de la api\n",
    "if(palabra_usuario=='hola'):\n",
    "    vozAsistente('Hola, ¿Como estas?')\n",
    "#realizo preguntas a la asistente\n",
    "if(palabra_usuario=='pregunta'):\n",
    "    vozAsistente('¿Que pregunta me quieres hacer?')\n",
    "    conexionBBDD()\n",
    "#tengo que ponerlo en un bucle, marcado error.\n",
    "#devuelve error si no escucha correctamente\n",
    "if(palabra_usuario=='error'):\n",
    "    vozAsistente('¿Podrias repetirme lo que dijiste?')\n",
    "    activarMicrofono()\n",
    "#mando de mouse por voz.\n",
    "if (palabra_usuario=='mando'):\n",
    "    funcionalidadporvoz()\n",
    "if(palabra_usuario=='bateria'):\n",
    "    porcentajebateria()\n",
    "   "
   ]
  },
  {
   "cell_type": "code",
   "execution_count": null,
   "id": "11b3a2d8",
   "metadata": {},
   "outputs": [],
   "source": [
    "palabra_usuario= activarMicrofono()\n",
    "identificarPalabras(palabra_usuario.lower().capitalize())\n"
   ]
  },
  {
   "cell_type": "code",
   "execution_count": null,
   "id": "027cdd44",
   "metadata": {},
   "outputs": [],
   "source": []
  },
  {
   "cell_type": "code",
   "execution_count": null,
   "id": "7f6096e9",
   "metadata": {},
   "outputs": [],
   "source": []
  }
 ],
 "metadata": {
  "kernelspec": {
   "display_name": "Python 3",
   "language": "python",
   "name": "python3"
  },
  "language_info": {
   "codemirror_mode": {
    "name": "ipython",
    "version": 3
   },
   "file_extension": ".py",
   "mimetype": "text/x-python",
   "name": "python",
   "nbconvert_exporter": "python",
   "pygments_lexer": "ipython3",
   "version": "3.9.5"
  }
 },
 "nbformat": 4,
 "nbformat_minor": 5
}
