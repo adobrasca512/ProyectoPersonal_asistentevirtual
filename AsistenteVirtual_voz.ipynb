{
 "cells": [
  {
   "cell_type": "code",
   "execution_count": 1,
   "id": "6d235d9d",
   "metadata": {},
   "outputs": [],
   "source": [
    "#Aqui instalo los sonidos, microfonos, busquedas, librerias."
   ]
  },
  {
   "cell_type": "code",
   "execution_count": 2,
   "id": "997698dd",
   "metadata": {},
   "outputs": [
    {
     "name": "stdout",
     "output_type": "stream",
     "text": [
      "Requirement already satisfied: playsound in c:\\users\\adobr\\appdata\\local\\programs\\python\\python39\\lib\\site-packages (1.2.2)Note: you may need to restart the kernel to use updated packages.\n",
      "\n"
     ]
    }
   ],
   "source": [
    "pip install playsound"
   ]
  },
  {
   "cell_type": "code",
   "execution_count": 3,
   "id": "6d1b9d8b",
   "metadata": {},
   "outputs": [
    {
     "name": "stdout",
     "output_type": "stream",
     "text": [
      "Requirement already satisfied: beautifulsoup4 in c:\\users\\adobr\\appdata\\local\\programs\\python\\python39\\lib\\site-packages (4.9.3)\n",
      "Requirement already satisfied: soupsieve>1.2 in c:\\users\\adobr\\appdata\\local\\programs\\python\\python39\\lib\\site-packages (from beautifulsoup4) (2.2.1)\n",
      "Note: you may need to restart the kernel to use updated packages.\n"
     ]
    }
   ],
   "source": [
    "pip install beautifulsoup4"
   ]
  },
  {
   "cell_type": "code",
   "execution_count": 4,
   "id": "7e66117c",
   "metadata": {},
   "outputs": [
    {
     "name": "stdout",
     "output_type": "stream",
     "text": [
      "Requirement already satisfied: gTTS in c:\\users\\adobr\\appdata\\local\\programs\\python\\python39\\lib\\site-packages (2.2.3)\n",
      "Requirement already satisfied: click in c:\\users\\adobr\\appdata\\local\\programs\\python\\python39\\lib\\site-packages (from gTTS) (8.0.1)\n",
      "Requirement already satisfied: requests in c:\\users\\adobr\\appdata\\local\\programs\\python\\python39\\lib\\site-packages (from gTTS) (2.25.1)\n",
      "Requirement already satisfied: six in c:\\users\\adobr\\appdata\\local\\programs\\python\\python39\\lib\\site-packages (from gTTS) (1.16.0)\n",
      "Requirement already satisfied: colorama in c:\\users\\adobr\\appdata\\local\\programs\\python\\python39\\lib\\site-packages (from click->gTTS) (0.4.4)\n",
      "Requirement already satisfied: idna<3,>=2.5 in c:\\users\\adobr\\appdata\\local\\programs\\python\\python39\\lib\\site-packages (from requests->gTTS) (2.10)\n",
      "Requirement already satisfied: urllib3<1.27,>=1.21.1 in c:\\users\\adobr\\appdata\\local\\programs\\python\\python39\\lib\\site-packages (from requests->gTTS) (1.26.5)\n",
      "Requirement already satisfied: certifi>=2017.4.17 in c:\\users\\adobr\\appdata\\local\\programs\\python\\python39\\lib\\site-packages (from requests->gTTS) (2021.5.30)\n",
      "Requirement already satisfied: chardet<5,>=3.0.2 in c:\\users\\adobr\\appdata\\local\\programs\\python\\python39\\lib\\site-packages (from requests->gTTS) (4.0.0)\n",
      "Note: you may need to restart the kernel to use updated packages.\n"
     ]
    }
   ],
   "source": [
    "pip install gTTS"
   ]
  },
  {
   "cell_type": "code",
   "execution_count": 5,
   "id": "c40358d9",
   "metadata": {},
   "outputs": [
    {
     "name": "stdout",
     "output_type": "stream",
     "text": [
      "Requirement already satisfied: google in c:\\users\\adobr\\appdata\\local\\programs\\python\\python39\\lib\\site-packages (3.0.0)\n",
      "Requirement already satisfied: beautifulsoup4 in c:\\users\\adobr\\appdata\\local\\programs\\python\\python39\\lib\\site-packages (from google) (4.9.3)\n",
      "Requirement already satisfied: soupsieve>1.2 in c:\\users\\adobr\\appdata\\local\\programs\\python\\python39\\lib\\site-packages (from beautifulsoup4->google) (2.2.1)\n",
      "Note: you may need to restart the kernel to use updated packages.\n"
     ]
    }
   ],
   "source": [
    "pip install google"
   ]
  },
  {
   "cell_type": "code",
   "execution_count": 6,
   "id": "2fb4186a",
   "metadata": {},
   "outputs": [
    {
     "name": "stdout",
     "output_type": "stream",
     "text": [
      "Requirement already satisfied: mysql-connector-python in c:\\users\\adobr\\appdata\\local\\programs\\python\\python39\\lib\\site-packages (8.0.25)\n",
      "Requirement already satisfied: protobuf>=3.0.0 in c:\\users\\adobr\\appdata\\local\\programs\\python\\python39\\lib\\site-packages (from mysql-connector-python) (3.17.3)\n",
      "Requirement already satisfied: six>=1.9 in c:\\users\\adobr\\appdata\\local\\programs\\python\\python39\\lib\\site-packages (from protobuf>=3.0.0->mysql-connector-python) (1.16.0)\n",
      "Note: you may need to restart the kernel to use updated packages.\n"
     ]
    }
   ],
   "source": [
    "pip install mysql-connector-python"
   ]
  },
  {
   "cell_type": "code",
   "execution_count": 7,
   "id": "0354c2b2",
   "metadata": {},
   "outputs": [
    {
     "name": "stdout",
     "output_type": "stream",
     "text": [
      "Requirement already satisfied: SpeechRecognition in c:\\users\\adobr\\appdata\\local\\programs\\python\\python39\\lib\\site-packages (3.8.1)\n",
      "Note: you may need to restart the kernel to use updated packages.\n"
     ]
    }
   ],
   "source": [
    "pip install SpeechRecognition"
   ]
  },
  {
   "cell_type": "code",
   "execution_count": 8,
   "id": "acae04be",
   "metadata": {},
   "outputs": [
    {
     "name": "stdout",
     "output_type": "stream",
     "text": [
      "Requirement already satisfied: pyttsx3 in c:\\users\\adobr\\appdata\\local\\programs\\python\\python39\\lib\\site-packages (2.90)\n",
      "Requirement already satisfied: comtypes in c:\\users\\adobr\\appdata\\local\\programs\\python\\python39\\lib\\site-packages (from pyttsx3) (1.1.10)\n",
      "Requirement already satisfied: pywin32 in c:\\users\\adobr\\appdata\\local\\programs\\python\\python39\\lib\\site-packages (from pyttsx3) (301)\n",
      "Requirement already satisfied: pypiwin32 in c:\\users\\adobr\\appdata\\local\\programs\\python\\python39\\lib\\site-packages (from pyttsx3) (223)\n",
      "Note: you may need to restart the kernel to use updated packages.\n"
     ]
    }
   ],
   "source": [
    "pip install pyttsx3"
   ]
  },
  {
   "cell_type": "code",
   "execution_count": 9,
   "id": "459fb107",
   "metadata": {},
   "outputs": [
    {
     "name": "stdout",
     "output_type": "stream",
     "text": [
      "Requirement already satisfied: mariadb in c:\\users\\adobr\\appdata\\local\\programs\\python\\python39\\lib\\site-packages (1.0.7)\n",
      "Note: you may need to restart the kernel to use updated packages.\n"
     ]
    }
   ],
   "source": [
    "pip install mariadb"
   ]
  },
  {
   "cell_type": "code",
   "execution_count": 10,
   "id": "85cd09a9",
   "metadata": {},
   "outputs": [
    {
     "name": "stdout",
     "output_type": "stream",
     "text": [
      "Requirement already satisfied: googlesearch-python in c:\\users\\adobr\\appdata\\local\\programs\\python\\python39\\lib\\site-packages (1.0.1)\n",
      "Requirement already satisfied: beautifulsoup4==4.9.3 in c:\\users\\adobr\\appdata\\local\\programs\\python\\python39\\lib\\site-packages (from googlesearch-python) (4.9.3)\n",
      "Requirement already satisfied: requests==2.25.1 in c:\\users\\adobr\\appdata\\local\\programs\\python\\python39\\lib\\site-packages (from googlesearch-python) (2.25.1)\n",
      "Requirement already satisfied: soupsieve>1.2 in c:\\users\\adobr\\appdata\\local\\programs\\python\\python39\\lib\\site-packages (from beautifulsoup4==4.9.3->googlesearch-python) (2.2.1)\n",
      "Requirement already satisfied: certifi>=2017.4.17 in c:\\users\\adobr\\appdata\\local\\programs\\python\\python39\\lib\\site-packages (from requests==2.25.1->googlesearch-python) (2021.5.30)\n",
      "Requirement already satisfied: idna<3,>=2.5 in c:\\users\\adobr\\appdata\\local\\programs\\python\\python39\\lib\\site-packages (from requests==2.25.1->googlesearch-python) (2.10)\n",
      "Requirement already satisfied: urllib3<1.27,>=1.21.1 in c:\\users\\adobr\\appdata\\local\\programs\\python\\python39\\lib\\site-packages (from requests==2.25.1->googlesearch-python) (1.26.5)\n",
      "Requirement already satisfied: chardet<5,>=3.0.2 in c:\\users\\adobr\\appdata\\local\\programs\\python\\python39\\lib\\site-packages (from requests==2.25.1->googlesearch-python) (4.0.0)\n",
      "Note: you may need to restart the kernel to use updated packages.\n"
     ]
    }
   ],
   "source": [
    "pip install googlesearch-python"
   ]
  },
  {
   "cell_type": "code",
   "execution_count": 11,
   "id": "04f07a29",
   "metadata": {},
   "outputs": [],
   "source": [
    "#Importo las librerias necesarias"
   ]
  },
  {
   "cell_type": "code",
   "execution_count": 12,
   "id": "c6510fff",
   "metadata": {},
   "outputs": [],
   "source": [
    "from gtts import gTTS"
   ]
  },
  {
   "cell_type": "code",
   "execution_count": 13,
   "id": "79733e71",
   "metadata": {},
   "outputs": [],
   "source": [
    "from playsound import playsound"
   ]
  },
  {
   "cell_type": "code",
   "execution_count": 14,
   "id": "26adea75",
   "metadata": {},
   "outputs": [],
   "source": [
    "import speech_recognition as sr"
   ]
  },
  {
   "cell_type": "code",
   "execution_count": 15,
   "id": "bc88213d",
   "metadata": {},
   "outputs": [],
   "source": [
    "import pyttsx3"
   ]
  },
  {
   "cell_type": "code",
   "execution_count": 34,
   "id": "f612741a",
   "metadata": {},
   "outputs": [],
   "source": [
    "import mysql.connector as mariadb\n",
    "from IPython.display import Image\n"
   ]
  },
  {
   "cell_type": "code",
   "execution_count": 17,
   "id": "1997b015",
   "metadata": {},
   "outputs": [],
   "source": [
    "from itertools import chain\n",
    "\n"
   ]
  },
  {
   "cell_type": "code",
   "execution_count": 18,
   "id": "89d4de7f",
   "metadata": {},
   "outputs": [],
   "source": [
    "from datetime import date\n",
    "from datetime import datetime\n"
   ]
  },
  {
   "cell_type": "code",
   "execution_count": 19,
   "id": "a7312a5a",
   "metadata": {},
   "outputs": [],
   "source": [
    "#from nltk.corpus import wordnet"
   ]
  },
  {
   "cell_type": "code",
   "execution_count": 20,
   "id": "37b86947",
   "metadata": {},
   "outputs": [],
   "source": [
    "import requests"
   ]
  },
  {
   "cell_type": "code",
   "execution_count": 21,
   "id": "b3c7901c",
   "metadata": {},
   "outputs": [],
   "source": [
    "from tkinter import *"
   ]
  },
  {
   "cell_type": "code",
   "execution_count": 22,
   "id": "3e3a08eb",
   "metadata": {},
   "outputs": [],
   "source": [
    "import math"
   ]
  },
  {
   "cell_type": "code",
   "execution_count": 56,
   "id": "d870deee",
   "metadata": {},
   "outputs": [],
   "source": [
    "ciudad='Madrid,ES'\n",
    "api_key=\"e7cdb6db20d94db83272aa82c77b946a\""
   ]
  },
  {
   "cell_type": "code",
   "execution_count": 66,
   "id": "525b7b73",
   "metadata": {},
   "outputs": [],
   "source": [
    "def get_weather(api_key,ciudad):\n",
    "    url=f\"http://api.openweathermap.org/data/2.5/weather?q={ciudad}&appid={api_key}\"\n",
    "    response=requests.get(url).json()\n",
    "    temp= response['main']['temp']\n",
    "    #parsea a celsius\n",
    "    temp=(temp*1.8)- 459.67\n",
    "    temp= math.floor((temp))\n",
    "    vozAsistente('Estamos a '+str(temp)+' grados')\n",
    "    #print(response)"
   ]
  },
  {
   "cell_type": "code",
   "execution_count": 25,
   "id": "3375f5bb",
   "metadata": {},
   "outputs": [],
   "source": [
    "#activo el reconocedor de voz"
   ]
  },
  {
   "cell_type": "code",
   "execution_count": 26,
   "id": "e5541f39",
   "metadata": {},
   "outputs": [],
   "source": [
    "r= sr.Recognizer()"
   ]
  },
  {
   "cell_type": "code",
   "execution_count": 27,
   "id": "c34c8ae8",
   "metadata": {},
   "outputs": [],
   "source": [
    "#activamos el microfono y cargamos el texto dicho\n",
    "def activarMicrofono():\n",
    "    with sr.Microphone() as source:\n",
    "        print(\"Di algo:\")\n",
    "        #redusco el sonido del exterior, permite que la lectura sea mas eficiente.\n",
    "        r.adjust_for_ambient_noise(source,duration=1)\n",
    "\n",
    "        audio=r.listen(source)\n",
    "        try:\n",
    "            #configuro el lenguaje a español panama\n",
    "            text=r.recognize_google(audio,language='es-PA')\n",
    "            palabra_usuario=text\n",
    "            print('Has dicho: {}'.format(text))\n",
    "        except:\n",
    "            palabra_usuario=\"error\"\n",
    "            vozAsistente(\"Uy, lo siento no pude reconocer tu voz\")\n",
    "           \n",
    "            \n",
    "    return palabra_usuario"
   ]
  },
  {
   "cell_type": "code",
   "execution_count": 28,
   "id": "031a51ca",
   "metadata": {},
   "outputs": [],
   "source": [
    "#activa la voz de la asistente\n",
    "def vozAsistente(texto):\n",
    "    engine=pyttsx3.init()\n",
    "    engine.setProperty(\"rate\",150)\n",
    "\n",
    "    engine.say(texto)\n",
    "    engine.runAndWait()"
   ]
  },
  {
   "cell_type": "code",
   "execution_count": 29,
   "id": "79a9adc2",
   "metadata": {},
   "outputs": [],
   "source": [
    "from googlesearch import search\n",
    "#busqueda en internet por voz\n",
    "def iniciarBusqueda():\n",
    "    vozAsistente('¿Que deseas buscar?')\n",
    "    google_query=activarMicrofono()\n",
    "    vozAsistente('Estas son las paginas encontradas')\n",
    "    for j in search(google_query, tld=\"co.in\", num=10, stop=10, pause=2):\n",
    "         print(j)"
   ]
  },
  {
   "cell_type": "code",
   "execution_count": 30,
   "id": "76c42c96",
   "metadata": {},
   "outputs": [],
   "source": [
    "#Coneccion con bbdd"
   ]
  },
  {
   "cell_type": "code",
   "execution_count": 31,
   "id": "877122d0",
   "metadata": {},
   "outputs": [],
   "source": [
    "#conexion que permite cuestionar a la asistente cosas personales\n",
    "def conexionBBDD():\n",
    "    print(\"intentando mostrar datos:\")\n",
    "    mariadb_conexion = mariadb.connect(host='2.139.176.212', port='3306',\n",
    "                                   user='db_aDobras', password='DobrAs:33', database='bddobras')\n",
    "    cursor = mariadb_conexion.cursor()\n",
    "    pregunta_usuario=activarMicrofono()\n",
    "    try:\n",
    "        #no se si cambiar el where por like, asi habra mas probabilidad de respuesta\n",
    "        #opcion: ponerle like y que lance que no entendio muy bien pero aqui algunas respuestas\n",
    "        consulta=\"SELECT id_,pregunta,respuesta FROM asistentevirtual WHERE pregunta= %s\"\n",
    "        valor=(pregunta_usuario,)\n",
    "        cursor.execute(consulta,valor)\n",
    "       \n",
    "        for id_, pregunta,respuesta in cursor:\n",
    "            print(\"intentando cargar datos:\")\n",
    "           \n",
    "            vozAsistente( respuesta)\n",
    "            print(\"Datos cargados exitosamente!\")\n",
    "     \n",
    "        # \"\"\"  if len(resultado)== 0:\n",
    "           # vozAsistente( 'Nunca me habías echo esa pregunta, ¿Quieres que te responda algo en especial?')\n",
    "           # crear=activarMicrofono()\n",
    "           # if(crear=='si'):\n",
    "                #crearPregunta(pregunta_usuario)\n",
    "           # elif(crear=='no'):\n",
    "               # vozAsistente( 'Vale!')\n",
    "                #\"\"\"\n",
    "    except mariadb.Error as error:\n",
    "        print(\"Error: {}\".format(error))\n",
    "    mariadb_conexion.close()"
   ]
  },
  {
   "cell_type": "code",
   "execution_count": 32,
   "id": "cf4efbb4",
   "metadata": {},
   "outputs": [],
   "source": [
    "# Permite crear nuevas preguntas.\n",
    "def crearPregunta(pregunta_usuario):\n",
    "    \n",
    "            mariadb_conexion = mariadb.connect(host='2.139.176.212', port='3306',user='db_aDobras', password='DobrAs:33', database='bddobras')\n",
    "            cursor = mariadb_conexion.cursor()\n",
    "            vozAsistente( 'Muy Bien!, Define '+pregunta_usuario)\n",
    "\n",
    "            respuestaNueva=activarMicrofono()\n",
    "            try:\n",
    "                consulta=\"INSERT INTO bddobras.asistentevirtual(pregunta, respuesta) VALUES (%s, %s)\"\n",
    "                valor=(pregunta_usuario,respuestaNueva,)\n",
    "                cursor.execute(consulta,valor)\n",
    "            except mariadb.Error as error:\n",
    "                print(\"Error: {}\".format(error))\n",
    "            mariadb_conexion.close()\n"
   ]
  },
  {
   "cell_type": "markdown",
   "id": "817850ae",
   "metadata": {},
   "source": [
    "Estas es mi tabla de Busquedas:"
   ]
  },
  {
   "cell_type": "code",
   "execution_count": 35,
   "id": "63ceedaf",
   "metadata": {},
   "outputs": [
    {
     "data": {
      "image/png": "[encoded data removed]",
      "text/plain": [
       "<IPython.core.display.Image object>"
      ]
     },
     "execution_count": 35,
     "metadata": {},
     "output_type": "execute_result"
    }
   ],
   "source": [
    "Image(filename='CapturaBusquedas.PNG')"
   ]
  },
  {
   "cell_type": "markdown",
   "id": "f3ec97af",
   "metadata": {},
   "source": [
    "Esta es mi tabla de Palabras clave que retornaran el valor a buscar"
   ]
  },
  {
   "cell_type": "code",
   "execution_count": 36,
   "id": "898c68eb",
   "metadata": {},
   "outputs": [
    {
     "data": {
      "image/png": "[encoded data removed]",
      "text/plain": [
       "<IPython.core.display.Image object>"
      ]
     },
     "execution_count": 36,
     "metadata": {},
     "output_type": "execute_result"
    }
   ],
   "source": [
    "Image(filename='ImagenPalabrasClave.PNG')"
   ]
  },
  {
   "cell_type": "code",
   "execution_count": 52,
   "id": "7ff28648",
   "metadata": {},
   "outputs": [],
   "source": [
    "def identificarPalabras(palabraRecreada):\n",
    "    #Lo que hare es: buscar en\n",
    "    mariadb_conexion = mariadb.connect(host='2.139.176.212', port='3306',user='db_aDobras', password='DobrAs:33', database='bddobras')\n",
    "    cursor = mariadb_conexion.cursor()\n",
    "    try:\n",
    "        consulta=\"SELECT id_palabraclave,sinonimo FROM Busquedas WHERE sinonimo= %s\"\n",
    "        valor=(palabraRecreada,)\n",
    "        cursor.execute(consulta,valor)\n",
    "        #Aqui hare una busqueda dentro de la busqueda\n",
    "        #Recorro los sinonimos, al encontrarlo sacamos el id_palabraclave\n",
    "        for id_palabraclave, sinonimo in cursor:\n",
    "            print(\"Identificando frase\")\n",
    "\n",
    "            identificarClave(id_palabraclave)\n",
    "    except mariadb.Error as error:\n",
    "        print(\"Error: {}\".format(error))\n",
    "    mariadb_conexion.close()\n"
   ]
  },
  {
   "cell_type": "code",
   "execution_count": 53,
   "id": "c7e58eae",
   "metadata": {},
   "outputs": [],
   "source": [
    "def identificarClave(clave_id):\n",
    "    mariadb_conexion = mariadb.connect(host='2.139.176.212', port='3306',user='db_aDobras', password='DobrAs:33', database='bddobras')\n",
    "    cursor = mariadb_conexion.cursor()\n",
    "    try:\n",
    "        consulta=\"SELECT id_,palabra FROM Palabras WHERE id_= %s\"\n",
    "        valor=(clave_id,)\n",
    "        cursor.execute(consulta,valor)\n",
    "        #Buscamos el id de la clave encontrado, conseguimos clave\n",
    "\n",
    "\n",
    "        for id_,palabra in cursor:\n",
    "            print(\"Mostrando consulta\")\n",
    "            #Razones por las que es importante saber la palabra clave: \n",
    "            # considero que con la palabra clave podre ingresar un menu de acciones que se pueden hacer de manera generalizada\n",
    "\n",
    "            interaccionUsuario(palabra)\n",
    "            print(\"Datos cargados exitosamente!\")\n",
    "    except mariadb.Error as error:\n",
    "        print(\"Error: {}\".format(error))\n",
    "    mariadb_conexion.close()\n"
   ]
  },
  {
   "cell_type": "code",
   "execution_count": 42,
   "id": "b4b2c2f9",
   "metadata": {},
   "outputs": [],
   "source": [
    "#Menu de interacciones\n",
    "def interaccionUsuario(palabra):\n",
    "    now = datetime.now()\n",
    "    if(palabra=='Hola'):\n",
    "        vozAsistente('Hola, ¿Como estas?')\n",
    "    if (palabra=='Hora'  ):\n",
    "        vozAsistente('Son las '+ str(now.hour)+' y '+str(now.minute))\n",
    "    if(palabra=='Dia'):\n",
    "         vozAsistente('Es '+ str(now.strftime('%A'))+', '+str(now.strftime('%w'))+' de '+str(now.strftime('%B'))+' del '+str(now.strftime(\"%Y\")))\n",
    "    if(palabra=='Clima'):\n",
    "         get_weather(api_key,ciudad)"
   ]
  },
  {
   "cell_type": "code",
   "execution_count": null,
   "id": "8dacc5b9",
   "metadata": {},
   "outputs": [],
   "source": [
    "palabra_usuario= activarMicrofono()\n",
    "#buscamos cosas por internet\n",
    "if (palabra_usuario == 'buscar'):\n",
    "    iniciarBusqueda()\n",
    "#holamundo de la api\n",
    "if(palabra_usuario=='hola'):\n",
    "    vozAsistente('Hola, ¿Como estas?')\n",
    "#realizo preguntas a la asistente\n",
    "if(palabra_usuario=='pregunta'):\n",
    "    vozAsistente('¿Que pregunta me quieres hacer?')\n",
    "    conexionBBDD()\n",
    "#tengo que ponerlo en un bucle, marcado error.\n",
    "#devuelve error si no escucha correctamente\n",
    "if(palabra_usuario=='error'):\n",
    "    vozAsistente('¿Podrias repetirme lo que dijiste?')\n",
    "    activarMicrofono()\n",
    "if (palabra_usuario=='qué hora es'  ):\n",
    "    now = datetime.now()\n",
    "    vozAsistente('Son las '+ str(now.hour)+' y '+str(now.minute))\n",
    "  \n",
    "   "
   ]
  },
  {
   "cell_type": "code",
   "execution_count": 67,
   "id": "11b3a2d8",
   "metadata": {},
   "outputs": [
    {
     "name": "stdout",
     "output_type": "stream",
     "text": [
      "Di algo:\n",
      "Has dicho: clima\n",
      "Identificando frase\n",
      "Mostrando consulta\n",
      "Datos cargados exitosamente!\n"
     ]
    }
   ],
   "source": [
    "palabra_usuario= activarMicrofono()\n",
    "identificarPalabras(palabra_usuario)"
   ]
  },
  {
   "cell_type": "code",
   "execution_count": null,
   "id": "027cdd44",
   "metadata": {},
   "outputs": [],
   "source": []
  },
  {
   "cell_type": "code",
   "execution_count": null,
   "id": "7f6096e9",
   "metadata": {},
   "outputs": [],
   "source": []
  }
 ],
 "metadata": {
  "kernelspec": {
   "display_name": "Python 3",
   "language": "python",
   "name": "python3"
  },
  "language_info": {
   "codemirror_mode": {
    "name": "ipython",
    "version": 3
   },
   "file_extension": ".py",
   "mimetype": "text/x-python",
   "name": "python",
   "nbconvert_exporter": "python",
   "pygments_lexer": "ipython3",
   "version": "3.9.5"
  }
 },
 "nbformat": 4,
 "nbformat_minor": 5
}
